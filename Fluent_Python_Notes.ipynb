{
 "cells": [
  {
   "cell_type": "markdown",
   "id": "b88c1354-9230-491c-b366-ef3d79e0fac3",
   "metadata": {
    "jupyter": {
     "source_hidden": true
    },
    "tags": []
   },
   "source": [
    "# List Compregension and readibility"
   ]
  },
  {
   "cell_type": "code",
   "execution_count": 4,
   "id": "64b9a7e7-24b3-4d96-a4ac-b05ddd25c688",
   "metadata": {
    "jupyter": {
     "source_hidden": true
    },
    "tags": []
   },
   "outputs": [],
   "source": [
    "# notice which example below is easier to read, a) or b)\n",
    "# a)\n",
    "symbols = '$¢£¥€¤'\n",
    "codes = []\n",
    "for i in symbols:\n",
    "    codes.append(ord(i))\n",
    "\n",
    "# b)\n",
    "symbols = '$¢£¥€¤'\n",
    "codes = [ord(i) for i in symbols]\n",
    "\n",
    "# listcomps are more readable because its intent is explicit"
   ]
  },
  {
   "cell_type": "markdown",
   "id": "1819a1e3-aa89-419e-bd96-2bb747c36a41",
   "metadata": {
    "jupyter": {
     "source_hidden": true
    },
    "tags": []
   },
   "source": [
    "##### Tip: line breaks are ignored inside pairs of [], {}, or () so you dont have to use slash \\"
   ]
  },
  {
   "cell_type": "markdown",
   "id": "a6e6200e-d123-492e-a7da-c91ddfe1fcd9",
   "metadata": {
    "jupyter": {
     "source_hidden": true
    },
    "tags": []
   },
   "source": [
    "----\n",
    "### Listcomps Versus map and filter - return same effect:"
   ]
  },
  {
   "cell_type": "code",
   "execution_count": 6,
   "id": "2d80ac24-1ad0-4ed5-b959-ae51cef8e229",
   "metadata": {
    "jupyter": {
     "source_hidden": true
    },
    "tags": []
   },
   "outputs": [],
   "source": [
    "# listcomp:\n",
    "symbols = '$¢£¥€¤'\n",
    "codes = [ord(i) for i in symbols if ord(i) > 127]\n",
    "\n",
    "# map and filter:\n",
    "symbols = '$¢£¥€¤'\n",
    "codes = list(filter(lambda c: c > 127, map(ord, symbols)))"
   ]
  },
  {
   "cell_type": "markdown",
   "id": "26752ba7-b340-44e1-ad68-c7baf41c8c6f",
   "metadata": {
    "jupyter": {
     "source_hidden": true
    },
    "tags": []
   },
   "source": [
    "##### Lets say we want Cartesian Products. say we have t shirts with S M L sizes and two colors black and white. We can easy do:"
   ]
  },
  {
   "cell_type": "code",
   "execution_count": 30,
   "id": "7b060cef-dbc4-47a1-ae11-1b357fa0f537",
   "metadata": {
    "collapsed": true,
    "jupyter": {
     "outputs_hidden": true,
     "source_hidden": true
    },
    "tags": []
   },
   "outputs": [
    {
     "name": "stdout",
     "output_type": "stream",
     "text": [
      "[('Black', 'S'), ('Black', 'M'), ('Black', 'L'), ('White', 'S'), ('White', 'M'), ('White', 'L')]\n"
     ]
    }
   ],
   "source": [
    "sizes = ['S', 'M', 'L']       # or 'S M L'.split()\n",
    "colors = ['Black', 'White']   # or 'Black White'.split()\n",
    "t_shrts = [(color, size) for color in colors # generate list of tuples arranged by color then size\n",
    "                         for size in sizes]  # treat this as row-col\n",
    "# /\\ look at Tip above; btw, remember Card example from book \"Fluent Python\"? /\\\n",
    "print(t_shrts)"
   ]
  },
  {
   "cell_type": "markdown",
   "id": "8389919e-f808-438a-99ef-437849c98ad5",
   "metadata": {
    "jupyter": {
     "source_hidden": true
    },
    "tags": []
   },
   "source": [
    "#### Listcomps are a one-trick pony: they build lists. To fill up other sequence types, a genexp is the way to go"
   ]
  },
  {
   "cell_type": "markdown",
   "id": "11452de7-5fdd-4b17-9a2e-53a8e149ace9",
   "metadata": {
    "jupyter": {
     "source_hidden": true
    },
    "tags": []
   },
   "source": [
    "---\n",
    "# GenExp"
   ]
  },
  {
   "cell_type": "markdown",
   "id": "db447dd4-5545-4786-a4e1-02c86a7d086d",
   "metadata": {
    "jupyter": {
     "source_hidden": true
    },
    "tags": []
   },
   "source": [
    "##### Cartesian product in a generator expression:"
   ]
  },
  {
   "cell_type": "code",
   "execution_count": 36,
   "id": "a82d3292-9d17-49f7-92ad-023eff68647d",
   "metadata": {
    "collapsed": true,
    "jupyter": {
     "outputs_hidden": true,
     "source_hidden": true
    },
    "tags": []
   },
   "outputs": [
    {
     "name": "stdout",
     "output_type": "stream",
     "text": [
      "black S\n",
      "black M\n",
      "black L\n",
      "white S\n",
      "white M\n",
      "white L\n"
     ]
    }
   ],
   "source": [
    "colors = ['black', 'white']\n",
    "sizes = ['S', 'M', 'L']\n",
    "# The generator expression yields items one by one; a list with all six T-shirt variations is never produced in this example:\n",
    "for tshirt in ('%s %s' % (c, s) for c in colors for s in sizes): \n",
    "    print(tshirt)"
   ]
  },
  {
   "cell_type": "markdown",
   "id": "534a6a69-f4bd-4081-8ddb-51c903bb66ec",
   "metadata": {},
   "source": [
    "---\n",
    "# Tuples as a record\n",
    "##### Tuples are not only \"immutable lists\". Tuples do double duty: they can be used as immutable lists and also as records with no field names."
   ]
  },
  {
   "cell_type": "code",
   "execution_count": 12,
   "id": "180da4a4-fbe1-4b42-8f41-db3ddeeccb69",
   "metadata": {},
   "outputs": [
    {
     "name": "stdout",
     "output_type": "stream",
     "text": [
      "BRA/CE342567\n",
      "ESP/XDA205856\n",
      "USA/31195855\n"
     ]
    }
   ],
   "source": [
    "lax_coordinates = (33.9425, -118.408056) # lat and long of airport (LA)\n",
    "city, year, pop, chg, area = ('Tokyo', 2003, 32450, 0.66, 8014) # data about name, year, population, etc...\n",
    "traveler_ids = [('USA', '31195855'), ('BRA', 'CE342567'), ('ESP', 'XDA205856')] # A list of tuples of the form (country_code, passport_number).\n",
    "\n",
    "for passport in sorted(traveler_ids): # As we iterate over the list, passport is bound to each tuple\n",
    "    print(f'{passport[0]}/{passport[1]}')\n",
    "    print('%s/%s' % passport) # tuple unpacking"
   ]
  },
  {
   "cell_type": "markdown",
   "id": "5c21d5e9-9179-4df0-9f97-1f0f5c793025",
   "metadata": {},
   "source": [
    "##### The for loop knows how to retrieve the items of a tuple separately—this is called “unpacking.” Here we are not interested in the second item, so it’s assigned to `_`, a dummy variable:"
   ]
  },
  {
   "cell_type": "code",
   "execution_count": 11,
   "id": "9ed7f08d-aa05-467c-94f2-d6d8f733e721",
   "metadata": {},
   "outputs": [
    {
     "name": "stdout",
     "output_type": "stream",
     "text": [
      "USA\n",
      "BRA\n",
      "ESP\n"
     ]
    }
   ],
   "source": [
    "for country, _ in traveler_ids:\n",
    "    print(country)"
   ]
  },
  {
   "cell_type": "markdown",
   "id": "cc3a0b83-b286-4af1-b08d-71c49b1e2c6a",
   "metadata": {},
   "source": [
    "---\n",
    "# Tuple Unpacking\n",
    "##### we assigned `('Tokyo', 2003, 32450, 0.66, 8014)` to city, year, pop, etc in a single statement. Then, `print('%s/%s' % passport)`, the `%` operator assigned each item in the passport tuple to one slot in the format string in the print argument. Those are two examples of tuple unpacking."
   ]
  },
  {
   "cell_type": "code",
   "execution_count": 29,
   "id": "c4ef252e-127f-4ed4-b5f9-0f6c0defdb7b",
   "metadata": {},
   "outputs": [
    {
     "name": "stdout",
     "output_type": "stream",
     "text": [
      "2 4\n"
     ]
    }
   ],
   "source": [
    "# example 1:\n",
    "lax_coordinates = (33.9425, -118.408056)\n",
    "lat, long = lax_coordinates # TUPLE UNPACKING [parallel assignment]\n",
    "lat # 33.9425\n",
    "long # -118.408056\n",
    "\n",
    "# example 2:\n",
    "# b, a = a, b\n",
    "\n",
    "#example 3:\n",
    "t = (20, 8)\n",
    "quot, rem = divmod(*t)\n",
    "print(quot, rem)"
   ]
  },
  {
   "cell_type": "markdown",
   "id": "89f165ad-2230-4181-b9e4-5853c42633ff",
   "metadata": {},
   "source": [
    "##### `os.path.split()` function builds a tuple (path, last_part) from a filesystem path:"
   ]
  },
  {
   "cell_type": "code",
   "execution_count": 31,
   "id": "f9d3ee9d-db14-483e-8d78-8ba44a18c8f5",
   "metadata": {},
   "outputs": [
    {
     "data": {
      "text/plain": [
       "'haxor.exe'"
      ]
     },
     "execution_count": 31,
     "metadata": {},
     "output_type": "execute_result"
    }
   ],
   "source": [
    "# example 4:\n",
    "import os\n",
    "_, filename = os.path.split('/home/USERNAME/bin/haxor.exe') # Sometimes when we only care about certain parts of a tuple when unpacking, \n",
    "                                                            # a dummy variable like _ is used as placeholder\n",
    "filename"
   ]
  },
  {
   "cell_type": "markdown",
   "id": "94ddd2ec-dc76-492b-aed2-b893f5fdbbca",
   "metadata": {},
   "source": [
    "##### Another way of focusing on just some of the items when unpacking a tuple is to use the `*`"
   ]
  },
  {
   "cell_type": "code",
   "execution_count": 39,
   "id": "7fd6e651-5244-4ebc-aee9-67284da84f0f",
   "metadata": {},
   "outputs": [
    {
     "data": {
      "text/plain": [
       "(0, 1, [2, 3, 4])"
      ]
     },
     "execution_count": 39,
     "metadata": {},
     "output_type": "execute_result"
    }
   ],
   "source": [
    "a, b, *rest = range(5)\n",
    "a, b, rest"
   ]
  },
  {
   "cell_type": "markdown",
   "id": "891938fd-c5a6-45d6-b311-0240a5750ac0",
   "metadata": {},
   "source": [
    "---\n",
    "# Nested Tuple Unpacking"
   ]
  },
  {
   "cell_type": "code",
   "execution_count": 45,
   "id": "43e96401-a019-4151-94f3-cd6abe246084",
   "metadata": {},
   "outputs": [
    {
     "name": "stdout",
     "output_type": "stream",
     "text": [
      "                |   lat.    |   long.  \n",
      "Mexico City     |   19.4333 |  -99.1333\n",
      "New York-Newark |   40.8086 |  -74.0204\n",
      "Sao Paulo       |  -23.5478 |  -46.6358\n"
     ]
    }
   ],
   "source": [
    "metro_areas = [\n",
    " ('Tokyo', 'JP', 36.933, (35.689722, 139.691667)), \n",
    " ('Delhi NCR', 'IN', 21.935, (28.613889, 77.208889)),\n",
    " ('Mexico City', 'MX', 20.142, (19.433333, -99.133333)),\n",
    " ('New York-Newark', 'US', 20.104, (40.808611, -74.020386)),\n",
    " ('Sao Paulo', 'BR', 19.649, (-23.547778, -46.635833))\n",
    "]\n",
    "print('{:15} | {:^9} | {:^9}'.format('', 'lat.', 'long.'))\n",
    "fmt = '{:15} | {:9.4f} | {:9.4f}'\n",
    "for name, cc, pop, (latitude, longitude) in metro_areas:\n",
    "    if longitude <= 0:\n",
    "        print(fmt.format(name, latitude, longitude))"
   ]
  },
  {
   "cell_type": "code",
   "execution_count": 51,
   "id": "25c7268b-bc0f-470d-903c-367a62d46103",
   "metadata": {},
   "outputs": [
    {
     "name": "stdout",
     "output_type": "stream",
     "text": [
      "Tokyo 35.689722 139.691667\n",
      "Delhi NCR 28.613889 77.208889\n"
     ]
    }
   ],
   "source": [
    "# my test smaller example for full understanding\n",
    "metro_areas = [\n",
    " ('Tokyo', 'JP', 36.933, (35.689722, 139.691667)), \n",
    " ('Delhi NCR', 'IN', 21.935, (28.613889, 77.208889))\n",
    "]\n",
    "for name, cc, pop, (lat, long) in metro_areas:\n",
    "    print(name, lat, long)"
   ]
  },
  {
   "cell_type": "markdown",
   "id": "c2ba80be-d0d3-4c12-97eb-12c676595bcd",
   "metadata": {},
   "source": [
    "#### As designed, tuples are very handy. But there is a missing feature when using them as records: sometimes it is desirable to name the fields. That is why the namedtuple function was invented. Read on."
   ]
  },
  {
   "cell_type": "markdown",
   "id": "fdc6b8d1-4c07-4cba-9ce2-8601cb641651",
   "metadata": {},
   "source": [
    "---\n",
    "# Named Tuples"
   ]
  },
  {
   "cell_type": "markdown",
   "id": "29cee18a-c819-4481-92a7-0b1dd4c0b93f",
   "metadata": {},
   "source": [
    "##### Two parameters are required to create a named tuple: `a class name` and `a list of field names`, which can be given as an iterable of strings or as a single spacedelimited string."
   ]
  },
  {
   "cell_type": "code",
   "execution_count": 56,
   "id": "28b7faff-684d-4ca4-b70c-012a78196f1b",
   "metadata": {},
   "outputs": [
    {
     "data": {
      "text/plain": [
       "36.933"
      ]
     },
     "execution_count": 56,
     "metadata": {},
     "output_type": "execute_result"
    }
   ],
   "source": [
    "from collections import namedtuple\n",
    "City = namedtuple('City', 'name country population coordinates') # a class name and a list of field names\n",
    "tokyo = City('Tokyo', 'JP', 36.933, (35.689722, 139.691667))\n",
    "tokyo # City(name='Tokyo', country='JP', population=36.933, coordinates=(35.689722, 139.691667))\n",
    "tokyo.population # 36.933"
   ]
  },
  {
   "cell_type": "markdown",
   "id": "cdc18146-1fc2-4af2-a8a7-143f3298db36",
   "metadata": {},
   "source": [
    "##### A named tuple type has a few attributes in addition to those inherited from tuple:\n",
    "<ul>\n",
    "    <li>the _fields class attribute</li>\n",
    "    <li>the class method _make (iterable)</li>\n",
    "    <li>and the _asdict() instance method</li>\n",
    "</ul>\n"
   ]
  },
  {
   "cell_type": "code",
   "execution_count": 63,
   "id": "9aecbbf8-b2c0-48b9-a058-1c0abf10dc0f",
   "metadata": {},
   "outputs": [
    {
     "data": {
      "text/plain": [
       "('name', 'country', 'population', 'coordinates')"
      ]
     },
     "execution_count": 63,
     "metadata": {},
     "output_type": "execute_result"
    }
   ],
   "source": [
    "City._fields"
   ]
  },
  {
   "cell_type": "code",
   "execution_count": 64,
   "id": "3858dcaa-f11d-449b-9d53-2069b3ae58ac",
   "metadata": {},
   "outputs": [
    {
     "data": {
      "text/plain": [
       "OrderedDict([('name', 'Delhi NCR'),\n",
       "             ('country', 'IN'),\n",
       "             ('population', 21.935),\n",
       "             ('coordinates', LatLong(lat=28.613889, long=77.208889))])"
      ]
     },
     "execution_count": 64,
     "metadata": {},
     "output_type": "execute_result"
    }
   ],
   "source": [
    "LatLong = namedtuple('LatLong', 'lat long') # a tuple with the field names of the class\n",
    "delhi_data = ('Delhi NCR', 'IN', 21.935, LatLong(28.613889, 77.208889))\n",
    "delhi = City._make(delhi_data) # _make() allow you to instantiate a named tuple from an iterable\n",
    "delhi._asdict() # _asdict() returns a collections.OrderedDict built from the named tuple instance. \n",
    "                # That can be used to produce a nice display of city data"
   ]
  },
  {
   "cell_type": "code",
   "execution_count": 65,
   "id": "ee1b1b4c-e2d5-41a6-b508-2df9360c05e6",
   "metadata": {},
   "outputs": [
    {
     "name": "stdout",
     "output_type": "stream",
     "text": [
      "name:  Delhi NCR\n",
      "country:  IN\n",
      "population:  21.935\n",
      "coordinates:  LatLong(lat=28.613889, long=77.208889)\n"
     ]
    }
   ],
   "source": [
    "for k, v in delhi._asdict().items():\n",
    "    print(k + ': ', v)"
   ]
  },
  {
   "cell_type": "markdown",
   "id": "bcf8e157-e4d3-41bb-a635-2b868c0a43dd",
   "metadata": {},
   "source": [
    "##### Now that we’ve explored the power of tuples as records, we can consider their second role as an **immutable** variant of the list type.\n",
    "---\n",
    "# Tuples as Immutable Lists"
   ]
  },
  {
   "cell_type": "markdown",
   "id": "6650cdf7-188f-4afd-bbcf-c7400cfd2119",
   "metadata": {},
   "source": [
    "##### tuple supports all list methods that do not involve adding or removing items\n",
    "\n",
    "<table style=\"\">\n",
    "<tr>\n",
    "<th>method</th>\n",
    "<th>list</th>\n",
    "<th>tuple</th>\n",
    "<th>explanation</th>\n",
    "</tr>\n",
    "\n",
    "<tr>\n",
    "<td>s.__add__(s2)</td>\n",
    "<td>●</td>\n",
    "<td>●</td>\n",
    "<td>s + s2—concatenation</td>\n",
    "</tr>\n",
    "\n",
    "<tr>\n",
    "<td>s.__iadd__(s2)</td>\n",
    "<td>●</td>\n",
    "<td></td>\n",
    "<td>s += s2—in-place concatenation</td>\n",
    "</tr>\n",
    "    \n",
    "<tr>\n",
    "<td>s.append(e)</td>\n",
    "<td>●</td>\n",
    "<td></td>\n",
    "<td>Append one element after last</td>\n",
    "</tr>\n",
    "</table>"
   ]
  },
  {
   "cell_type": "markdown",
   "id": "7a95f157-a2b4-4839-940b-9170fe36921e",
   "metadata": {},
   "source": [
    "---\n",
    "# Slicing"
   ]
  },
  {
   "cell_type": "code",
   "execution_count": 99,
   "id": "3415d7ba-b948-42ab-8391-e8b1ef939a6e",
   "metadata": {},
   "outputs": [
    {
     "name": "stdout",
     "output_type": "stream",
     "text": [
      "  $17.50     Pimoroni PiBrella                 \n",
      "  $4.95      6mm Tactile Switch x20            \n",
      "  $28.00     Panavise Jr. - PV-201             \n",
      "  $34.95     PiTFT Mini Kit 320x240            \n",
      " \n"
     ]
    }
   ],
   "source": [
    "invoice = \"\"\"\n",
    "0.....6.................................40........52...55........\n",
    "1909  Pimoroni PiBrella                   $17.50    3    $52.50\n",
    "1489  6mm Tactile Switch x20              $4.95     2    $9.90\n",
    "1510  Panavise Jr. - PV-201               $28.00    1    $28.00\n",
    "1601  PiTFT Mini Kit 320x240              $34.95    1    $34.95\n",
    "\"\"\"\n",
    "SKU = slice(0, 6)\n",
    "DESCRIPTION = slice(6, 40)\n",
    "UNIT_PRICE = slice(40, 52)\n",
    "QUANTITY = slice(52, 55)\n",
    "ITEM_TOTAL = slice(55, None)\n",
    "line_items = invoice.split('\\n')[2:] # notice how smart slicing is used here\n",
    "for item in line_items:\n",
    "    print(item[UNIT_PRICE], item[DESCRIPTION])"
   ]
  },
  {
   "cell_type": "markdown",
   "id": "2f5c4f70-a8b6-4071-ac33-1d47fc3f9eb6",
   "metadata": {},
   "source": [
    "### Assigning to Slices"
   ]
  },
  {
   "cell_type": "code",
   "execution_count": 104,
   "id": "069f1314-11ee-44b7-827a-3d42fcb7bb53",
   "metadata": {},
   "outputs": [],
   "source": [
    "l = list(range(10)) # [0, 1, 2, 3, 4, 5, 6, 7, 8, 9]\n",
    "l[2:5] = [20, 30]   # [0, 1, 20, 30, 5, 6, 7, 8, 9]\n",
    "del l[5:7]          # [0, 1, 20, 30, 5, 8, 9]\n",
    "l[3::2] = [11, 22]  # [0, 1, 20, 11, 5, 22, 9]\n",
    "# l[2:5] = 100 # ERROR. When the target of the assignment is a slice, the RIGHT SIDE MUST BE an iterable object, even if it has just one item.\n",
    "l[2:5] = [100] # OK. [0, 1, 100, 22, 9]"
   ]
  },
  {
   "cell_type": "markdown",
   "id": "ffcfb44d-1e52-49b6-bf66-ed57d5f091dc",
   "metadata": {},
   "source": [
    "### SIDENOTES: \n",
    "<ul>\n",
    "    <li>Putting mutable items in tuples is NOT A GOOD IDEA: t = (1, 2, [30, 40])</li>\n",
    "    <li>Inspecting Python bytecode is not too difficult, and is often helpful to see what is\n",
    "going on under the hood: import dis; dis.dis('s[a] += b')</li>\n",
    "</ul>"
   ]
  },
  {
   "cell_type": "markdown",
   "id": "75f75b06-3b10-46fa-b12e-b225f9987827",
   "metadata": {},
   "source": [
    "---\n",
    "# list.sort and the sorted Built-In Function"
   ]
  },
  {
   "cell_type": "markdown",
   "id": "4001976b-a506-4663-a636-6b65309dd2ed",
   "metadata": {},
   "source": [
    "###### The list.sort method sorts a list in place—that is, WITHOUT making a copy: `LIST_NAME.sort()`\n",
    "###### The built-in function sorted creates a NEW LIST and returns it: `sorted(LIST_NAME)`\n",
    "###### Both list.sort and sorted take two optional, keyword-only arguments: REVERSE and KEY (one-argument function that will be applied to each item to produce its sorting key; like key=str.lower or key=len)\n",
    "<table>\n",
    "    <th>my_list.sort()</th>\n",
    "    <th> | </th>\n",
    "    <th>sorted(my_list)</th>\n",
    "    <tr>\n",
    "        <td>CHANGES THE SAME LIST</td>\n",
    "        <td> | </td>\n",
    "        <td>CREATES A NEW LIST (so original is not touched)</td>\n",
    "    </tr>"
   ]
  },
  {
   "cell_type": "code",
   "execution_count": 122,
   "id": "690881c2-4059-4724-b709-039a726c6e10",
   "metadata": {},
   "outputs": [
    {
     "data": {
      "text/plain": [
       "['apple', 'banana', 'grape', 'raspberry']"
      ]
     },
     "execution_count": 122,
     "metadata": {},
     "output_type": "execute_result"
    }
   ],
   "source": [
    "fruits = ['grape', 'raspberry', 'apple', 'banana']\n",
    "sorted(fruits) # The built-in function sorted creates a NEW LIST, sorts it and returns it"
   ]
  },
  {
   "cell_type": "code",
   "execution_count": 123,
   "id": "22c32dff-4d55-418b-a2a7-9a0c6422e755",
   "metadata": {},
   "outputs": [
    {
     "data": {
      "text/plain": [
       "['grape', 'raspberry', 'apple', 'banana']"
      ]
     },
     "execution_count": 123,
     "metadata": {},
     "output_type": "execute_result"
    }
   ],
   "source": [
    "fruits # show list again and note it \"was not touched\""
   ]
  },
  {
   "cell_type": "code",
   "execution_count": 124,
   "id": "fe6c57c9-8f85-4dea-8e9f-c4269f82234d",
   "metadata": {},
   "outputs": [
    {
     "data": {
      "text/plain": [
       "['apple', 'banana', 'grape', 'raspberry']"
      ]
     },
     "execution_count": 124,
     "metadata": {},
     "output_type": "execute_result"
    }
   ],
   "source": [
    "fruits.sort() # This sorts the list in place, and returns None (which the console omits)\n",
    "fruits # Now fruits is sorted"
   ]
  },
  {
   "cell_type": "markdown",
   "id": "e861aa3a-0221-4416-98e8-158bf56370e7",
   "metadata": {},
   "source": [
    "---\n",
    "# `bisect` module - Managing Ordered Sequences with bisect\n",
    "##### The bisect module offers two main functions: `bisect` and `insort`. that use the binary search algorithm to quickly find and insert items in any sorted sequence.\n",
    "#### Searching with bisect:"
   ]
  },
  {
   "cell_type": "code",
   "execution_count": null,
   "id": "e1aaa128-df75-4a00-aabe-5c6f7475b9a7",
   "metadata": {},
   "outputs": [],
   "source": []
  }
 ],
 "metadata": {
  "kernelspec": {
   "display_name": "Python 3",
   "language": "python",
   "name": "python3"
  },
  "language_info": {
   "codemirror_mode": {
    "name": "ipython",
    "version": 3
   },
   "file_extension": ".py",
   "mimetype": "text/x-python",
   "name": "python",
   "nbconvert_exporter": "python",
   "pygments_lexer": "ipython3",
   "version": "3.7.9"
  }
 },
 "nbformat": 4,
 "nbformat_minor": 5
}
